{
  "nbformat": 4,
  "nbformat_minor": 0,
  "metadata": {
    "colab": {
      "name": "TF-IDF_Text_classification.ipynb",
      "provenance": [],
      "collapsed_sections": [],
      "toc_visible": true,
      "include_colab_link": true
    },
    "kernelspec": {
      "name": "python3",
      "display_name": "Python 3"
    }
  },
  "cells": [
    {
      "cell_type": "markdown",
      "metadata": {
        "id": "view-in-github",
        "colab_type": "text"
      },
      "source": [
        "<a href=\"https://colab.research.google.com/github/gjurcin/classification_TFIDF/blob/main/TF_IDF_Text_classification.ipynb\" target=\"_parent\"><img src=\"https://colab.research.google.com/assets/colab-badge.svg\" alt=\"Open In Colab\"/></a>"
      ]
    },
    {
      "cell_type": "markdown",
      "metadata": {
        "id": "blY8DYn72RSX"
      },
      "source": [
        "# Text (sentences) classification\n",
        "\n",
        "We will develop simple classifiers that are able to detecet whether a given sentence comes from macedonian literature or from macedonian news. \n",
        "\n",
        "The data/cospus is already split to sentences. It is a combination of:\n",
        "  1. [macedonian literature corpus](http://drmj.manu.edu.mk/%D0%B5%D0%BB%D0%B5%D0%BA%D1%82%D1%80%D0%BE%D0%BD%D1%81%D0%BA%D0%B8-%D0%BA%D0%BE%D1%80%D0%BF%D1%83%D1%81-%D0%BD%D0%B0-%D0%BC%D0%B0%D0%BA%D0%B5%D0%B4%D0%BE%D0%BD%D1%81%D0%BA%D0%B8-%D0%BA%D0%BD%D0%B8/)\n",
        "  2. [SETimes – A Parallel Corpus of English and South-East European Languages](http://nlp.ffzg.hr/resources/corpora/setimes/)"
      ]
    },
    {
      "cell_type": "code",
      "metadata": {
        "id": "E9SiCX3D2R_Z"
      },
      "source": [
        "#import libraries\n",
        "import numpy as np\n",
        "import matplotlib.pyplot as plt\n",
        "import pickle"
      ],
      "execution_count": null,
      "outputs": []
    },
    {
      "cell_type": "markdown",
      "metadata": {
        "id": "NDjkX1HIHIAI"
      },
      "source": [
        "## Data\n",
        "\n",
        "First, donwload and store the data to your drive:\n",
        "https:\n",
        "1. Corpus: https://drive.google.com/file/d/1oh9Cc_C-0QCzXalP7BJFd-jJHjbXfvsP/view?usp=sharing\n",
        "2. Macedonian stopwords:\n",
        "https://drive.google.com/file/d/1HxhnoZpr_YQi2_mLcwfhDXbJnd_p6CVM/view?usp=sharing"
      ]
    },
    {
      "cell_type": "markdown",
      "metadata": {
        "id": "uOaEfQinXvNn"
      },
      "source": [
        "##Load the data"
      ]
    },
    {
      "cell_type": "code",
      "metadata": {
        "colab": {
          "base_uri": "https://localhost:8080/"
        },
        "id": "K2LHcFtUgsax",
        "outputId": "b77c1d86-cb7b-4feb-bf5b-29a7ec000d09"
      },
      "source": [
        "#mount drive (the data is already stored on drive)\n",
        "from google.colab import drive\n",
        "drive.mount('/content/gdrive')"
      ],
      "execution_count": null,
      "outputs": [
        {
          "output_type": "stream",
          "text": [
            "Mounted at /content/gdrive\n"
          ],
          "name": "stdout"
        }
      ]
    },
    {
      "cell_type": "code",
      "metadata": {
        "colab": {
          "base_uri": "https://localhost:8080/"
        },
        "id": "WJcW0DNNXa-3",
        "outputId": "fbe03954-d55b-4b17-8804-c16ca4a0ef7f"
      },
      "source": [
        "#read data from file.\n",
        "path_to_data = \"/content/gdrive/MyDrive/mkd_korpus/sentences_labels.pkl\"\n",
        "with open(path_to_data, mode = 'rb') as my_file: \n",
        "    corpus, labels = pickle.load(my_file)\n",
        "    my_file.close()\n",
        "\n",
        "len(corpus),len(labels)"
      ],
      "execution_count": null,
      "outputs": [
        {
          "output_type": "execute_result",
          "data": {
            "text/plain": [
              "(479815, 479815)"
            ]
          },
          "metadata": {
            "tags": []
          },
          "execution_count": 9
        }
      ]
    },
    {
      "cell_type": "markdown",
      "metadata": {
        "id": "Q7BK1sirXy6Z"
      },
      "source": [
        "## Plot the data distribution"
      ]
    },
    {
      "cell_type": "code",
      "metadata": {
        "colab": {
          "base_uri": "https://localhost:8080/",
          "height": 333
        },
        "id": "LIsPnFrIPQ5R",
        "outputId": "d214bce7-95a7-4e64-c70b-6ef828762db5"
      },
      "source": [
        "#plot label distribution\n",
        "plt.figsize = (15,5)\n",
        "plt.hist(labels)\n",
        "plt.ylabel(\"Number of sentences (frequency)\")\n",
        "plt.xlabel(\"Sentence type\")\n",
        "plt.xticks(rotation = 45)\n",
        "plt.show()"
      ],
      "execution_count": null,
      "outputs": [
        {
          "output_type": "display_data",
          "data": {
            "image/png": "[encoded data removed]",
            "text/plain": [
              "<Figure size 432x288 with 1 Axes>"
            ]
          },
          "metadata": {
            "tags": [],
            "needs_background": "light"
          }
        }
      ]
    },
    {
      "cell_type": "code",
      "metadata": {
        "colab": {
          "base_uri": "https://localhost:8080/"
        },
        "id": "JfXAdkrPP88J",
        "outputId": "0bcc0bdf-09b8-46a5-c966-b564a19b8e05"
      },
      "source": [
        "np.unique(labels)"
      ],
      "execution_count": null,
      "outputs": [
        {
          "output_type": "execute_result",
          "data": {
            "text/plain": [
              "array(['', 'Вести', 'Драма', 'Критика', 'Поезија', 'Проза',\n",
              "       'Проза / поезија'], dtype='<U15')"
            ]
          },
          "metadata": {
            "tags": []
          },
          "execution_count": 11
        }
      ]
    },
    {
      "cell_type": "code",
      "metadata": {
        "colab": {
          "base_uri": "https://localhost:8080/"
        },
        "id": "BDaQFDN6QGKU",
        "outputId": "13abe735-d5fe-4191-fc88-97ec78abc6e2"
      },
      "source": [
        "#convert the labels to binary problem (literature vs. news)\n",
        "binary_labels = np.array(labels)\n",
        "binary_labels[binary_labels=='Проза / поезија'] = 0\n",
        "binary_labels[binary_labels=='Драма'] = 0\n",
        "binary_labels[binary_labels=='Критика'] = 0\n",
        "binary_labels[binary_labels=='Поезија'] = 0\n",
        "binary_labels[binary_labels=='Проза'] = 0\n",
        "binary_labels[binary_labels==''] = 0\n",
        "binary_labels[binary_labels=='Вести'] = 1\n",
        "np.unique(binary_labels)"
      ],
      "execution_count": null,
      "outputs": [
        {
          "output_type": "execute_result",
          "data": {
            "text/plain": [
              "array(['0', '1'], dtype='<U15')"
            ]
          },
          "metadata": {
            "tags": []
          },
          "execution_count": 12
        }
      ]
    },
    {
      "cell_type": "code",
      "metadata": {
        "colab": {
          "base_uri": "https://localhost:8080/",
          "height": 279
        },
        "id": "UFz76qYMQ4Y1",
        "outputId": "a1055213-f39b-4dd5-e0c4-8ef058b22abc"
      },
      "source": [
        "#plot binary label distribution (news vs. literature)\n",
        "plt.figsize = (15,5)\n",
        "plt.hist(binary_labels)\n",
        "plt.ylabel(\"Number of sentences (frequency)\")\n",
        "plt.xlabel(\"Sentence type. 0-Literature, 1-News\")\n",
        "plt.show()"
      ],
      "execution_count": null,
      "outputs": [
        {
          "output_type": "display_data",
          "data": {
            "image/png": "[encoded data removed]",
            "text/plain": [
              "<Figure size 432x288 with 1 Axes>"
            ]
          },
          "metadata": {
            "tags": [],
            "needs_background": "light"
          }
        }
      ]
    },
    {
      "cell_type": "markdown",
      "metadata": {
        "id": "hA94pPv6X2aa"
      },
      "source": [
        "## Clean the data"
      ]
    },
    {
      "cell_type": "code",
      "metadata": {
        "colab": {
          "base_uri": "https://localhost:8080/"
        },
        "id": "lS-PxsruGirc",
        "outputId": "d3eed5a1-09f9-4872-9cbd-9686d2636cd2"
      },
      "source": [
        "import nltk, string\n",
        "nltk.download('punkt')\n",
        "def clean_corpus(my_corpus,mk_stopwords):\n",
        "  corpus_processed = []\n",
        "  counter = 0\n",
        "  for sentence in my_corpus:\n",
        "      counter = counter+1\n",
        "      if counter % 10000==0:\n",
        "        print(counter)\n",
        "      #sentence lower\n",
        "      sentence = sentence.lower()\n",
        "      #string punct\n",
        "      sentence = sentence.translate(str.maketrans('', '', string.punctuation))\n",
        "      #tokenize\n",
        "      tokens = nltk.word_tokenize(sentence)\n",
        "      # stop-words\n",
        "      tokens_stop_words = []\n",
        "      for token in tokens:\n",
        "        if token not in mk_stopwords:\n",
        "          tokens_stop_words.append(token)\n",
        "      # Lemmatization - this code works for English.\n",
        "      #tokens_lemma = []\n",
        "      #for token in tokens_stop_words:\n",
        "        #tokens_lemma.append(wnl.lemmatize(token, get_wordnet_pos(nltk.pos_tag([token])[0][1])))\n",
        "\n",
        "      final = ' '.join(tokens_stop_words)\n",
        "      corpus_processed.extend(final)\n",
        "  return corpus_processed\n"
      ],
      "execution_count": null,
      "outputs": [
        {
          "output_type": "stream",
          "text": [
            "[nltk_data] Downloading package punkt to /root/nltk_data...\n",
            "[nltk_data]   Unzipping tokenizers/punkt.zip.\n"
          ],
          "name": "stdout"
        }
      ]
    },
    {
      "cell_type": "code",
      "metadata": {
        "id": "VRmIQJWlTDIw",
        "colab": {
          "base_uri": "https://localhost:8080/"
        },
        "outputId": "f32ac3c4-bbb8-45e1-8acd-42f6d1365289"
      },
      "source": [
        "#read macedonian stopwords from file.\n",
        "#source https://github.com/petrushev/nlmk/tree/master/nlmk\n",
        "path_to_data = \"/content/gdrive/MyDrive/mkd_korpus/mk_stopwords\"\n",
        "with open(path_to_data, mode = 'r') as my_file: \n",
        "    mk_stopwords = my_file.read()\n",
        "    my_file.close()\n",
        "mk_stopwords = mk_stopwords.split('\\n')[1:-1]\n",
        "mk_stopwords"
      ],
      "execution_count": null,
      "outputs": [
        {
          "output_type": "execute_result",
          "data": {
            "text/plain": [
              "['беше',\n",
              " 'еден',\n",
              " 'едно',\n",
              " 'јас',\n",
              " 'рече',\n",
              " 'сите',\n",
              " 'сум',\n",
              " 'ние',\n",
              " 'сме',\n",
              " 'овде',\n",
              " 'исто',\n",
              " 'така',\n",
              " 'на',\n",
              " 'и',\n",
              " 'во',\n",
              " 'се',\n",
              " 'го',\n",
              " 'не',\n",
              " 'да',\n",
              " 'е',\n",
              " 'што',\n",
              " 'од',\n",
              " 'со',\n",
              " 'за',\n",
              " 'или',\n",
              " 'тоа',\n",
              " 'ја',\n",
              " 'по',\n",
              " 'тој',\n",
              " 'но',\n",
              " 'а',\n",
              " 'ги',\n",
              " 'до',\n",
              " 'таа',\n",
              " 'му',\n",
              " 'кои',\n",
              " 'па',\n",
              " 'нив',\n",
              " 'ни',\n",
              " 'ќе',\n",
              " 'кој',\n",
              " 'итн',\n",
              " 'бил',\n",
              " 'кај',\n",
              " 'ова',\n",
              " 'врз',\n",
              " 'над',\n",
              " 'тие',\n",
              " 'a',\n",
              " 'две',\n",
              " 'би',\n",
              " 'она',\n",
              " 'неа',\n",
              " 'си',\n",
              " 'кое',\n",
              " 'ако',\n",
              " 'два',\n",
              " 'има',\n",
              " 'в',\n",
              " 'како',\n",
              " 'само',\n",
              " 'дека',\n",
              " 'една',\n",
              " 'туку',\n",
              " 'кога',\n",
              " 'сега',\n",
              " 'ми',\n",
              " 'потоа',\n",
              " 'низ',\n",
              " 'ти',\n",
              " 'кон',\n",
              " 'додека',\n",
              " 'веќе',\n",
              " 'нешто',\n",
              " 'него',\n",
              " 'уште',\n",
              " 'таму',\n",
              " 'ли',\n",
              " 'под',\n",
              " 'беа',\n",
              " 'ме',\n",
              " 'некој',\n",
              " 'ништо',\n",
              " 'тука',\n",
              " 'пред',\n",
              " 'им',\n",
              " 'каде',\n",
              " 'повторно',\n",
              " 'ниту',\n",
              " 'биде',\n",
              " 'толку',\n",
              " 'никогаш',\n",
              " 'мене',\n",
              " 'дали',\n",
              " 'тогаш',\n",
              " 'своите',\n",
              " 'сето',\n",
              " 'без',\n",
              " 'нема',\n",
              " 'околу',\n",
              " 'многу',\n",
              " 'полека',\n",
              " 'секогаш',\n",
              " 'зошто',\n",
              " 'те',\n",
              " 'добро',\n",
              " 'можеби',\n",
              " 'колку',\n",
              " 'можеше',\n",
              " 'нивните',\n",
              " 'преку',\n",
              " 'миг',\n",
              " 'знам',\n",
              " 'малку',\n",
              " 'вратата',\n",
              " 'ох',\n",
              " 'навистина',\n",
              " 'оваа',\n",
              " 'покрај',\n",
              " 'повеќе',\n",
              " 'овој',\n",
              " 'сеуште',\n",
              " 'имаше',\n",
              " 'својата',\n",
              " 'неговите',\n",
              " 'неговата',\n",
              " 'друго',\n",
              " 'зашто',\n",
              " 'немаше',\n",
              " 'воопшто',\n",
              " 'понекогаш',\n",
              " 'ах',\n",
              " 'зад',\n",
              " 'еднаш',\n",
              " 'својот',\n",
              " 'дури',\n",
              " 'себе',\n",
              " 'ви',\n",
              " 'токму',\n",
              " 'зарем',\n",
              " 'сте',\n",
              " 'било',\n",
              " 'сосема',\n",
              " 'секој',\n",
              " 'неговото',\n",
              " 'друг',\n",
              " 'мошне',\n",
              " 'ајде',\n",
              " 'можел',\n",
              " 'може',\n",
              " 'која',\n",
              " 'при',\n",
              " 'пак',\n",
              " 'сè',\n",
              " 'други',\n",
              " 'треба',\n",
              " 'ама',\n",
              " 'после',\n",
              " 'некоја',\n",
              " 'нас',\n",
              " 'бе',\n",
              " 'никој',\n",
              " 'одма',\n",
              " 'сѐ',\n",
              " 'ај',\n",
              " 'нѐ',\n",
              " 'неколку',\n",
              " 'вие',\n",
              " 'оние',\n",
              " 'мора',\n",
              " 'оди',\n",
              " 'еј']"
            ]
          },
          "metadata": {
            "tags": []
          },
          "execution_count": 17
        }
      ]
    },
    {
      "cell_type": "code",
      "metadata": {
        "colab": {
          "base_uri": "https://localhost:8080/"
        },
        "id": "EgF9nN_hROw0",
        "outputId": "06e69d7d-3eba-4694-a031-a422bdd04cd7"
      },
      "source": [
        "#clean the corpus\n",
        "corpus_proc = clean_corpus(corpus,mk_stopwords)"
      ],
      "execution_count": null,
      "outputs": [
        {
          "output_type": "stream",
          "text": [
            "10000\n",
            "20000\n",
            "30000\n",
            "40000\n",
            "50000\n",
            "60000\n",
            "70000\n",
            "80000\n",
            "90000\n",
            "100000\n",
            "110000\n",
            "120000\n",
            "130000\n",
            "140000\n",
            "150000\n",
            "160000\n",
            "170000\n",
            "180000\n",
            "190000\n",
            "200000\n",
            "210000\n",
            "220000\n",
            "230000\n",
            "240000\n",
            "250000\n",
            "260000\n",
            "270000\n",
            "280000\n",
            "290000\n",
            "300000\n",
            "310000\n",
            "320000\n",
            "330000\n",
            "340000\n",
            "350000\n",
            "360000\n",
            "370000\n",
            "380000\n",
            "390000\n",
            "400000\n",
            "410000\n",
            "420000\n",
            "430000\n",
            "440000\n",
            "450000\n",
            "460000\n",
            "470000\n"
          ],
          "name": "stdout"
        }
      ]
    },
    {
      "cell_type": "code",
      "metadata": {
        "colab": {
          "base_uri": "https://localhost:8080/"
        },
        "id": "IXWUfkvCTgzX",
        "outputId": "af3e9c36-714a-4d08-8ef8-5ffe5891787b"
      },
      "source": [
        "len(corpus_proc),len(binary_labels)"
      ],
      "execution_count": null,
      "outputs": [
        {
          "output_type": "execute_result",
          "data": {
            "text/plain": [
              "(479815, 479815)"
            ]
          },
          "metadata": {
            "tags": []
          },
          "execution_count": 19
        }
      ]
    },
    {
      "cell_type": "code",
      "metadata": {
        "colab": {
          "base_uri": "https://localhost:8080/",
          "height": 35
        },
        "id": "ojZxjvhhUGTc",
        "outputId": "324dbacf-76e7-4a2a-dd01-24eafdf9cb6c"
      },
      "source": [
        "corpus_proc[0]"
      ],
      "execution_count": null,
      "outputs": [
        {
          "output_type": "execute_result",
          "data": {
            "application/vnd.google.colaboratory.intrinsic+json": {
              "type": "string"
            },
            "text/plain": [
              "'дете гулабарникот дамјан фрцул украдов чивт гулаби таклаџии'"
            ]
          },
          "metadata": {
            "tags": []
          },
          "execution_count": 20
        }
      ]
    },
    {
      "cell_type": "code",
      "metadata": {
        "colab": {
          "base_uri": "https://localhost:8080/",
          "height": 35
        },
        "id": "jC506DcBUH0l",
        "outputId": "26da9e29-258d-499c-fec6-c80f40bc6d1e"
      },
      "source": [
        "corpus[0]"
      ],
      "execution_count": null,
      "outputs": [
        {
          "output_type": "execute_result",
          "data": {
            "application/vnd.google.colaboratory.intrinsic+json": {
              "type": "string"
            },
            "text/plain": [
              "'Како дете од гулабарникот на Дамјан Фрцул, украдов чивт гулаби - таклаџии.'"
            ]
          },
          "metadata": {
            "tags": []
          },
          "execution_count": 21
        }
      ]
    },
    {
      "cell_type": "markdown",
      "metadata": {
        "id": "VFymJy63X64A"
      },
      "source": [
        "## Split the data"
      ]
    },
    {
      "cell_type": "code",
      "metadata": {
        "id": "C7SoMmdRUKPr"
      },
      "source": [
        "#the first 50% of the data have label 0 and the last 50% have label 50\n",
        "#to avoid having only one label in the test data, we will randomly-shuffle the data \n",
        "from sklearn.utils import shuffle\n",
        "corpus_proc, corpus,binary_labels, labels = shuffle(corpus_proc, corpus,binary_labels, labels)\n"
      ],
      "execution_count": null,
      "outputs": []
    },
    {
      "cell_type": "code",
      "metadata": {
        "colab": {
          "base_uri": "https://localhost:8080/"
        },
        "id": "3nOlo-XJh-Lu",
        "outputId": "2782f008-b541-4934-d77a-c757b413f7e0"
      },
      "source": [
        "binary_labels[-10:]"
      ],
      "execution_count": null,
      "outputs": [
        {
          "output_type": "execute_result",
          "data": {
            "text/plain": [
              "array(['0', '0', '1', '0', '1', '1', '1', '0', '0', '0'], dtype='<U15')"
            ]
          },
          "metadata": {
            "tags": []
          },
          "execution_count": 25
        }
      ]
    },
    {
      "cell_type": "code",
      "metadata": {
        "colab": {
          "base_uri": "https://localhost:8080/"
        },
        "id": "FEvGvh6Th-oq",
        "outputId": "846d5861-43ad-42d8-eb52-84d05e10e7c9"
      },
      "source": [
        "labels[-10:]"
      ],
      "execution_count": null,
      "outputs": [
        {
          "output_type": "execute_result",
          "data": {
            "text/plain": [
              "['Проза',\n",
              " 'Драма',\n",
              " 'Вести',\n",
              " 'Проза',\n",
              " 'Вести',\n",
              " 'Вести',\n",
              " 'Вести',\n",
              " 'Драма',\n",
              " 'Проза',\n",
              " 'Проза']"
            ]
          },
          "metadata": {
            "tags": []
          },
          "execution_count": 26
        }
      ]
    },
    {
      "cell_type": "code",
      "metadata": {
        "colab": {
          "base_uri": "https://localhost:8080/"
        },
        "id": "4XnWvFpfVfAj",
        "outputId": "c86d61e0-8a85-4914-e66f-1acfd31275ce"
      },
      "source": [
        "#split on training and test\n",
        "train_ratio = .7\n",
        "binary_labels = binary_labels.astype(int)\n",
        "\n",
        "train_idx = int(len(corpus_proc)*train_ratio)\n",
        "trainX, testX =corpus_proc[:train_idx], corpus_proc[train_idx:]\n",
        "trainY, testY =binary_labels[:train_idx], binary_labels[train_idx:]\n",
        "len(trainX), len(trainY),len(testX), len(testY)"
      ],
      "execution_count": null,
      "outputs": [
        {
          "output_type": "execute_result",
          "data": {
            "text/plain": [
              "(335870, 335870, 143945, 143945)"
            ]
          },
          "metadata": {
            "tags": []
          },
          "execution_count": 27
        }
      ]
    },
    {
      "cell_type": "markdown",
      "metadata": {
        "id": "K3zTNlOWX-8n"
      },
      "source": [
        "## CountVectorizer"
      ]
    },
    {
      "cell_type": "code",
      "metadata": {
        "colab": {
          "base_uri": "https://localhost:8080/"
        },
        "id": "51gb2VzeUsxD",
        "outputId": "547fca65-0912-49a9-d581-217778b578c8"
      },
      "source": [
        "from sklearn.feature_extraction.text import CountVectorizer\n",
        "# Count Vectors as features\n",
        "# create and fit a count vectorizer object \n",
        "count_vect = CountVectorizer(max_features=5000)\n",
        "count_vect.fit(corpus_proc)\n",
        "\n",
        "# transform the training and test data using count vectorizer object\n",
        "trainX_vec = count_vect.transform(trainX)\n",
        "testX_vec = count_vect.transform(testX)\n",
        "trainX_vec.shape,testX_vec.shape"
      ],
      "execution_count": null,
      "outputs": [
        {
          "output_type": "execute_result",
          "data": {
            "text/plain": [
              "((335870, 5000), (143945, 5000))"
            ]
          },
          "metadata": {
            "tags": []
          },
          "execution_count": 41
        }
      ]
    },
    {
      "cell_type": "code",
      "metadata": {
        "colab": {
          "base_uri": "https://localhost:8080/"
        },
        "id": "F2FD5WxxUuVT",
        "outputId": "0b33f774-ae41-41b8-81fb-15e94bfd174a"
      },
      "source": [
        "from sklearn.linear_model import LogisticRegression\n",
        "from sklearn.metrics import classification_report, confusion_matrix, accuracy_score\n",
        "\n",
        "#create an instance of the model\n",
        "count_model = LogisticRegression(random_state = 7, max_iter=150)\n",
        "\n",
        "#train the model\n",
        "count_model.fit(trainX_vec, trainY)\n",
        "\n",
        "#predict test data\n",
        "pred_test = count_model.predict(testX_vec)\n",
        "\n",
        "#print evaluation metrics \n",
        "print(classification_report(testY,pred_test))\n",
        "print(confusion_matrix(testY,pred_test))\n",
        "print(\"Test accuracy:\",accuracy_score(testY, pred_test))"
      ],
      "execution_count": null,
      "outputs": [
        {
          "output_type": "stream",
          "text": [
            "              precision    recall  f1-score   support\n",
            "\n",
            "           0       0.95      0.98      0.97     81749\n",
            "           1       0.98      0.93      0.95     62196\n",
            "\n",
            "    accuracy                           0.96    143945\n",
            "   macro avg       0.96      0.96      0.96    143945\n",
            "weighted avg       0.96      0.96      0.96    143945\n",
            "\n",
            "[[80349  1400]\n",
            " [ 4319 57877]]\n",
            "Test accuracy: 0.9602695473965751\n"
          ],
          "name": "stdout"
        }
      ]
    },
    {
      "cell_type": "markdown",
      "metadata": {
        "id": "MtGYt211ZDyI"
      },
      "source": [
        "## TF-IDF"
      ]
    },
    {
      "cell_type": "code",
      "metadata": {
        "colab": {
          "base_uri": "https://localhost:8080/"
        },
        "id": "jzftF75AZJyZ",
        "outputId": "77e4d14b-a437-4542-e1e7-aee4d6cd4573"
      },
      "source": [
        "from sklearn.feature_extraction.text import TfidfVectorizer\n",
        "\n",
        "# create and fit a TfidfVectorizer \n",
        "\n",
        "tfidf_vect_ngram = TfidfVectorizer(ngram_range=(1,2), max_features=5000) \n",
        "tfidf_vect_ngram.fit(corpus_proc)\n",
        "\n",
        "# transform the training and test data using TfidfVectorizer\n",
        "\n",
        "X_train_tfidf_ngram = tfidf_vect_ngram.transform(trainX)\n",
        "X_test_tfidf_ngram = tfidf_vect_ngram.transform(testX)\n",
        "X_train_tfidf_ngram.shape, X_test_tfidf_ngram.shape"
      ],
      "execution_count": null,
      "outputs": [
        {
          "output_type": "execute_result",
          "data": {
            "text/plain": [
              "((335870, 5000), (143945, 5000))"
            ]
          },
          "metadata": {
            "tags": []
          },
          "execution_count": 43
        }
      ]
    },
    {
      "cell_type": "code",
      "metadata": {
        "colab": {
          "base_uri": "https://localhost:8080/"
        },
        "id": "cqZBsaUUZTGR",
        "outputId": "781d793d-98c1-44fe-c3f8-b5f0fcc471b7"
      },
      "source": [
        "from sklearn.metrics import classification_report, confusion_matrix, accuracy_score\n",
        "\n",
        "#create an instance of the model\n",
        "tf_idf_model = LogisticRegression(random_state = 7, max_iter=200)\n",
        "\n",
        "#train the model\n",
        "tf_idf_model.fit(X_train_tfidf_ngram, trainY)\n",
        "\n",
        "#predict test data\n",
        "pred_test = tf_idf_model.predict(X_test_tfidf_ngram)\n",
        "\n",
        "#print evaluation metrics \n",
        "print(classification_report(testY,pred_test))\n",
        "print(confusion_matrix(testY,pred_test))\n",
        "print(\"Test accuracy:\",accuracy_score(testY, pred_test))"
      ],
      "execution_count": null,
      "outputs": [
        {
          "output_type": "stream",
          "text": [
            "              precision    recall  f1-score   support\n",
            "\n",
            "           0       0.95      0.98      0.97     81749\n",
            "           1       0.97      0.93      0.95     62196\n",
            "\n",
            "    accuracy                           0.96    143945\n",
            "   macro avg       0.96      0.96      0.96    143945\n",
            "weighted avg       0.96      0.96      0.96    143945\n",
            "\n",
            "[[80096  1653]\n",
            " [ 4148 58048]]\n",
            "Test accuracy: 0.9596998853728855\n"
          ],
          "name": "stdout"
        }
      ]
    },
    {
      "cell_type": "markdown",
      "metadata": {
        "id": "JQcoF_ROkisd"
      },
      "source": [
        "## Test on new examples"
      ]
    },
    {
      "cell_type": "code",
      "metadata": {
        "colab": {
          "base_uri": "https://localhost:8080/"
        },
        "id": "6XbcOMy_ZyBr",
        "outputId": "fd780804-484a-4752-ac20-e3b134126742"
      },
      "source": [
        "print(\"0-Literature, 1-News\")\n",
        "print()\n",
        "test_sentence = \"Резултатите и лауреатите ќе бидат објавени после 20 декември, а за најдобрите ќе има и парични награди.\"\n",
        "test_sentence_clean = clean_corpus([test_sentence],mk_stopwords)\n",
        "print(\"Input:\\n\",test_sentence)\n",
        "print(\"Cleaned input:\\n\", test_sentence_clean)\n",
        "print\n",
        "\n",
        "tf_idf_input = tfidf_vect_ngram.transform(test_sentence_clean)\n",
        "print(\"tfidf-model prediction:\",tf_idf_model.predict(tf_idf_input))\n",
        "\n",
        "count_vec_input = count_vect.transform(test_sentence_clean)\n",
        "print(\"count-model prediction:\",count_model.predict(count_vec_input))\n",
        "print()\n",
        "\n",
        "print('------')\n",
        "\n",
        "test_sentence = \"\"\"Сега, легнувајќи во самите корени на новиот век се загледуваш во мене и ги згаснуваш една по една ѕвездите во моите очи.\"\"\"\n",
        "\n",
        "test_sentence_clean = clean_corpus([test_sentence],mk_stopwords)\n",
        "print(\"Input:\\n\",test_sentence)\n",
        "print(\"Cleaned input:\\n\", test_sentence_clean)\n",
        "\n",
        "tf_idf_input = tfidf_vect_ngram.transform(test_sentence_clean)\n",
        "print(\"tfidf-model prediction:\",tf_idf_model.predict(tf_idf_input))\n",
        "\n",
        "\n",
        "count_vec_input = count_vect.transform(test_sentence_clean)\n",
        "print(\"count-model prediction:\",count_model.predict(count_vec_input))"
      ],
      "execution_count": null,
      "outputs": [
        {
          "output_type": "stream",
          "text": [
            "0-Literature, 1-News\n",
            "\n",
            "Input:\n",
            " Резултатите и лауреатите ќе бидат објавени после 20 декември, а за најдобрите ќе има и парични награди.\n",
            "Cleaned input:\n",
            " ['резултатите лауреатите бидат објавени 20 декември најдобрите парични награди']\n",
            "tfidf-model prediction: [1]\n",
            "count-model prediction: [1]\n",
            "\n",
            "------\n",
            "Input:\n",
            " Сега, легнувајќи во самите корени на новиот век се загледуваш во мене и ги згаснуваш една по една ѕвездите во моите очи.\n",
            "Cleaned input:\n",
            " ['легнувајќи самите корени новиот век загледуваш згаснуваш ѕвездите моите очи']\n",
            "tfidf-model prediction: [0]\n",
            "count-model prediction: [0]\n"
          ],
          "name": "stdout"
        }
      ]
    },
    {
      "cell_type": "code",
      "metadata": {
        "id": "8Ll6rg0Kl1L6"
      },
      "source": [
        ""
      ],
      "execution_count": null,
      "outputs": []
    }
  ]
}